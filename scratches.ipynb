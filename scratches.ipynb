{
 "cells": [
  {
   "cell_type": "code",
   "execution_count": 1,
   "metadata": {},
   "outputs": [],
   "source": [
    "import torch as t\n",
    "from utils import load_model_and_tokenizer\n",
    "\n",
    "model_name = \"gpt2-small\"\n",
    "device = \"cpu\"\n",
    "model, tokenizer = load_model_and_tokenizer(model_name, device=device)"
   ]
  },
  {
   "cell_type": "code",
   "execution_count": null,
   "metadata": {},
   "outputs": [],
   "source": [
    "prompt= \"The Eiffel Tower is in the city of\"\n",
    "layers = model.transformer.h\n",
    "probs_layers = []\n",
    "\n",
    "with model.trace() as tracer:\n",
    "    with tracer.invoke(prompt) as invoker:\n",
    "        for layer_idx, layer in enumerate(layers):\n",
    "            # Process layer output through the model's head and layer normalization\n",
    "            layer_output = model.lm_head(model.transformer.ln_f(layer.output[0]))\n",
    "\n",
    "            # Apply softmax to obtain probabilities and save the result\n",
    "            probs = t.nn.functional.softmax(layer_output, dim=-1).save()\n",
    "            probs_layers.append(probs)\n",
    "\n",
    "probs = t.cat([probs.value for probs in probs_layers])\n",
    "\n",
    "# Find the maximum probability and corresponding tokens for each position\n",
    "max_probs, tokens = probs.max(dim=-1)\n",
    "\n",
    "# Decode token IDs to words for each layer\n",
    "words = [[model.tokenizer.decode(t.cpu()).encode(\"unicode_escape\").decode() for t in layer_tokens]\n",
    "    for layer_tokens in tokens]\n",
    "\n",
    "# Access the 'input_ids' attribute of the invoker object to get the input words\n",
    "input_words = [model.tokenizer.decode(t) for t in invoker.inputs[0][0][\"input_ids\"][0]]"
   ]
  },
  {
   "cell_type": "code",
   "execution_count": 5,
   "metadata": {},
   "outputs": [
    {
     "data": {
      "text/plain": [
       "tensor([ 0,  1,  2,  3,  4,  5,  6,  7,  8,  9, 10, 11, 12, 13, 14, 15, 16, 17,\n",
       "        18, 19, 20, 21, 22, 23])"
      ]
     },
     "execution_count": 5,
     "metadata": {},
     "output_type": "execute_result"
    }
   ],
   "source": [
    "import torch as t\n",
    "\n",
    "t.arange(24)\n",
    "\n",
    "# %%"
   ]
  }
 ],
 "metadata": {
  "kernelspec": {
   "display_name": "Python 3",
   "language": "python",
   "name": "python3"
  },
  "language_info": {
   "codemirror_mode": {
    "name": "ipython",
    "version": 3
   },
   "file_extension": ".py",
   "mimetype": "text/x-python",
   "name": "python",
   "nbconvert_exporter": "python",
   "pygments_lexer": "ipython3",
   "version": "3.10.12"
  }
 },
 "nbformat": 4,
 "nbformat_minor": 2
}
